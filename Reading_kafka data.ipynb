{
 "cells": [
  {
   "cell_type": "code",
   "execution_count": 1,
   "metadata": {},
   "outputs": [
    {
     "ename": "KeyboardInterrupt",
     "evalue": "",
     "output_type": "error",
     "traceback": [
      "\u001b[1;31m---------------------------------------------------------------------------\u001b[0m",
      "\u001b[1;31mKeyboardInterrupt\u001b[0m                         Traceback (most recent call last)",
      "Cell \u001b[1;32mIn[1], line 17\u001b[0m\n\u001b[0;32m     15\u001b[0m \u001b[38;5;28;01mtry\u001b[39;00m:\n\u001b[0;32m     16\u001b[0m     \u001b[38;5;28;01mwhile\u001b[39;00m \u001b[38;5;28;01mTrue\u001b[39;00m:\n\u001b[1;32m---> 17\u001b[0m         msg \u001b[38;5;241m=\u001b[39m \u001b[43mconsumer\u001b[49m\u001b[38;5;241;43m.\u001b[39;49m\u001b[43mpoll\u001b[49m\u001b[43m(\u001b[49m\u001b[38;5;241;43m1.0\u001b[39;49m\u001b[43m)\u001b[49m  \u001b[38;5;66;03m# Polling for messages (1.0 is the timeout in seconds)\u001b[39;00m\n\u001b[0;32m     19\u001b[0m         \u001b[38;5;28;01mif\u001b[39;00m msg \u001b[38;5;129;01mis\u001b[39;00m \u001b[38;5;28;01mNone\u001b[39;00m:\n\u001b[0;32m     20\u001b[0m             \u001b[38;5;28;01mcontinue\u001b[39;00m\n",
      "\u001b[1;31mKeyboardInterrupt\u001b[0m: "
     ]
    }
   ],
   "source": [
    "from confluent_kafka import Consumer, KafkaException, KafkaError\n",
    "\n",
    "# Configure the consumer\n",
    "conf = {\n",
    "    'bootstrap.servers': 'pkc-619z3.us-east1.gcp.confluent.cloud:9092',  # replace with your Kafka server's address\n",
    "    'group.id': 'my_consumer_group',\n",
    "    'auto.offset.reset': 'earliest'  # You can change to 'latest' if you want to consume only new messages\n",
    "}\n",
    "\n",
    "consumer = Consumer(conf)\n",
    "\n",
    "# Subscribe to a Kafka topic\n",
    "consumer.subscribe(['first_one'])\n",
    "\n",
    "try:\n",
    "    while True:\n",
    "        msg = consumer.poll(1.0)  # Polling for messages (1.0 is the timeout in seconds)\n",
    "\n",
    "        if msg is None:\n",
    "            continue\n",
    "        elif msg.error():\n",
    "            if msg.error().code() == KafkaError._PARTITION_EOF:\n",
    "                # End of partition reached\n",
    "                print(f\"End of partition reached {msg.partition} at offset {msg.offset}\")\n",
    "            else:\n",
    "                raise KafkaException(msg.error())\n",
    "        else:\n",
    "            # Print the message value\n",
    "            print(f\"Received message: {msg.value().decode('utf-8')}\")\n",
    "finally:\n",
    "    # Close the consumer connection when done\n",
    "    consumer.close()\n"
   ]
  }
 ],
 "metadata": {
  "kernelspec": {
   "display_name": "Python 3",
   "language": "python",
   "name": "python3"
  },
  "language_info": {
   "codemirror_mode": {
    "name": "ipython",
    "version": 3
   },
   "file_extension": ".py",
   "mimetype": "text/x-python",
   "name": "python",
   "nbconvert_exporter": "python",
   "pygments_lexer": "ipython3",
   "version": "3.12.6"
  }
 },
 "nbformat": 4,
 "nbformat_minor": 2
}
